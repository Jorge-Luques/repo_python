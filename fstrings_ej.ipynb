{
 "cells": [
  {
   "cell_type": "code",
   "execution_count": 3,
   "metadata": {},
   "outputs": [
    {
     "data": {
      "text/plain": [
       "'Me llamo Elon Musk, tengo 49 años y una fortuna de 43300 millones'"
      ]
     },
     "execution_count": 3,
     "metadata": {},
     "output_type": "execute_result"
    }
   ],
   "source": [
    "name = 'Elon Musk'\n",
    "age = 49\n",
    "fortune = 43300\n",
    "\n",
    "f'Me llamo {name}, tengo {age} años y una fortuna de {fortune} millones'"
   ]
  },
  {
   "cell_type": "markdown",
   "metadata": {},
   "source": [
    "#Podría surgir la duda de cómo incluir llaves dentro de la cadena de texto, teniendo en cuenta que las llaves son símbolos especiales para la interpolación de variables. La respuesta es duplicar las llaves"
   ]
  },
  {
   "cell_type": "code",
   "execution_count": 2,
   "metadata": {},
   "outputs": [
    {
     "data": {
      "text/plain": [
       "'The variable is { x = 10 }'"
      ]
     },
     "execution_count": 2,
     "metadata": {},
     "output_type": "execute_result"
    }
   ],
   "source": [
    "x = 10\n",
    "\n",
    "f\"The variable is {{ x = {x} }}\""
   ]
  },
  {
   "cell_type": "markdown",
   "metadata": {},
   "source": [
    "#Los «f-strings» proporcionan una gran variedad de opciones de formateado: ancho del texto, número de decimales, tamaño de la cifra, alineación, etc."
   ]
  },
  {
   "cell_type": "code",
   "execution_count": 12,
   "metadata": {},
   "outputs": [
    {
     "name": "stdout",
     "output_type": "stream",
     "text": [
      "10 digitos:      37181\n",
      "10 digitos con ceros: 0000037181\n",
      "6 digitos (default): 3.141593\n",
      "con 3 digitos decimales: 3.142\n",
      "con 12 digitos, agrega delante la coma:     3.141593\n",
      "con 7 digitos, 2 por detras de la coma o punto:    3.14\n",
      "con 7 digitos con ceros 2 por detras: 0003.14\n",
      "con 10 digitos decimales, agrega ceros: 3.141592650000000\n",
      "con x digitos: 3.141593e+00\n"
     ]
    }
   ],
   "source": [
    "mount_height = 37181\n",
    "\n",
    "s = f'{mount_height:10d}'\n",
    "print(\"10 digitos: \" + s)\n",
    "\n",
    "s = f'{mount_height:010d}'\n",
    "print(\"10 digitos con ceros: \" + s)\n",
    "#en float\n",
    "PI = 3.14159265\n",
    "\n",
    "s = f'{PI:f}'  # 6 decimales por defecto\n",
    "print(\"6 digitos (default): \" + s)\n",
    "\n",
    "s = f'{PI:.3f}'\n",
    "print(\"con 3 digitos decimales: \" + s)\n",
    "\n",
    "s= f'{PI:12f}'\n",
    "print(\"con 12 digitos, agrega delante la coma: \" + s)\n",
    "\n",
    "s = f'{PI:7.2f}'\n",
    "print(\"con 7 digitos, 2 por detras de la coma o punto: \" + s)\n",
    "\n",
    "s = f'{PI:07.2f}'\n",
    "print(\"con 7 digitos con ceros 2 por detras: \" + s)\n",
    "\n",
    "s = f'{PI:.010f}'\n",
    "print(\"con 10 digitos decimales, agrega ceros: \" + s)\n",
    "\n",
    "s = f'{PI:e}'\n",
    "print(\"con exponente natural: \" + s)"
   ]
  },
  {
   "cell_type": "markdown",
   "metadata": {},
   "source": [
    "#dar formato a cadenas"
   ]
  },
  {
   "cell_type": "code",
   "execution_count": 14,
   "metadata": {},
   "outputs": [
    {
     "name": "stdout",
     "output_type": "stream",
     "text": [
      "saludo modificado: how    |    are    |    you\n",
      "saludo modificado 2: how----|····are····|----you\n"
     ]
    }
   ],
   "source": [
    "text1 = 'how'\n",
    "text2 = 'are'\n",
    "text3 = 'you'\n",
    "\n",
    "s = f'{text1:<7s}|{text2:^11s}|{text3:>7s}'\n",
    "print(\"saludo modificado: \"+s)\n",
    "\n",
    "s = f'{text1:-<7s}|{text2:·^11s}|{text3:->7s}'\n",
    "print(\"saludo modificado 2: \"+s)"
   ]
  },
  {
   "cell_type": "markdown",
   "metadata": {},
   "source": [
    "#convierte valores enteros a otras bases"
   ]
  },
  {
   "cell_type": "code",
   "execution_count": 17,
   "metadata": {},
   "outputs": [
    {
     "name": "stdout",
     "output_type": "stream",
     "text": [
      "base 2(biario): 111111100111000\n",
      "base 8(octal): 77470\n",
      "base 16(hexadecimal): 7f38\n",
      "base 16(hexadecimal) con ceros: 00007f38\n"
     ]
    }
   ],
   "source": [
    "value = 32568\n",
    "\n",
    "s = f'{value:b}'\n",
    "print(\"base 2(binario): \"+s)\n",
    "\n",
    "s = f'{value:o}'\n",
    "print(\"base 8(octal): \"+s)\n",
    "\n",
    "s = f'{value:x}'\n",
    "print(\"base 16(hexadecimal): \"+s)\n",
    "\n",
    "s = f'{value:08x}'\n",
    "print(\"base 16(hexadecimal) con ceros: \"+s)"
   ]
  },
  {
   "cell_type": "markdown",
   "metadata": {},
   "source": [
    "#\"Modo debug\" permiten imprimir el nombre de la variable y su valor, como un atajo para depurar nuestro código. Para ello sólo tenemos que incluir un símbolo = después del nombre de la variable:"
   ]
  },
  {
   "cell_type": "code",
   "execution_count": 18,
   "metadata": {},
   "outputs": [
    {
     "name": "stdout",
     "output_type": "stream",
     "text": [
      "serie='The Simpsons'\n",
      "imdb_rating=8.7\n",
      "serie[4:]='Simpsons'\n",
      "imdb_rating / num_seasons=0.29\n"
     ]
    }
   ],
   "source": [
    "serie = 'The Simpsons'\n",
    "imdb_rating = 8.7\n",
    "num_seasons = 30\n",
    "\n",
    "s = f'{serie=}'\n",
    "print(s)\n",
    "\n",
    "s = f'{imdb_rating=}'\n",
    "print(s)\n",
    "\n",
    "s = f'{serie[4:]=}'  # incluso podemos añadir expresiones!\n",
    "print(s)\n",
    "\n",
    "s = f'{imdb_rating / num_seasons=}'\n",
    "print(s)"
   ]
  },
  {
   "cell_type": "code",
   "execution_count": 27,
   "metadata": {},
   "outputs": [
    {
     "name": "stdout",
     "output_type": "stream",
     "text": [
      "Steven Spielberg\n",
      "'Steven Spielberg'\n",
      "32.12\n",
      "32.12\n",
      "🚀\n",
      "0x1f680\n",
      "⌣\n"
     ]
    }
   ],
   "source": [
    "# Utilizamos el modo \"Representacion\"\n",
    "\n",
    "name = 'Steven Spielberg'\n",
    "print(f'{name}')\n",
    "\n",
    "# si quisiéramos ver la representación del objeto,\n",
    "# tal y como se almacena internamente, podríamos utilizar el modificador !r en el «f-string»:\n",
    "print(f'{name!r}')\n",
    "\n",
    "value = 32.12\n",
    "print(f'{value}')\n",
    "print(f'{value!r}')\n",
    "\n",
    "# Caracteres unicode\n",
    "rocket_code = 0x1F680\n",
    "rocket = chr(rocket_code)\n",
    "print(rocket)\n",
    "\n",
    "rocket_code = hex(ord(rocket))\n",
    "print(rocket_code)\n",
    "print('\\N{ROCKET}')"
   ]
  }
 ],
 "metadata": {
  "kernelspec": {
   "display_name": "Python 3",
   "language": "python",
   "name": "python3"
  },
  "language_info": {
   "codemirror_mode": {
    "name": "ipython",
    "version": 3
   },
   "file_extension": ".py",
   "mimetype": "text/x-python",
   "name": "python",
   "nbconvert_exporter": "python",
   "pygments_lexer": "ipython3",
   "version": "3.10.10"
  }
 },
 "nbformat": 4,
 "nbformat_minor": 2
}
