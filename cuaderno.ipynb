{
 "cells": [
  {
   "cell_type": "markdown",
   "metadata": {},
   "source": [
    "#gráfico de barras en Jupyter Notebook utilizando la biblioteca Matplotlib"
   ]
  },
  {
   "cell_type": "code",
   "execution_count": 2,
   "metadata": {},
   "outputs": [
    {
     "ename": "ModuleNotFoundError",
     "evalue": "No module named 'matplotlib'",
     "output_type": "error",
     "traceback": [
      "\u001b[1;31m---------------------------------------------------------------------------\u001b[0m",
      "\u001b[1;31mModuleNotFoundError\u001b[0m                       Traceback (most recent call last)",
      "\u001b[1;32mc:\\Users\\Maximo\\Desktop\\TP-Objetos\\Python\\clases\\cuaderno.ipynb Celda 2\u001b[0m line \u001b[0;36m1\n\u001b[1;32m----> <a href='vscode-notebook-cell:/c%3A/Users/Maximo/Desktop/TP-Objetos/Python/clases/cuaderno.ipynb#W1sZmlsZQ%3D%3D?line=0'>1</a>\u001b[0m \u001b[39mimport\u001b[39;00m \u001b[39mmatplotlib\u001b[39;00m\u001b[39m.\u001b[39;00m\u001b[39mpyplot\u001b[39;00m \u001b[39mas\u001b[39;00m \u001b[39mplt\u001b[39;00m\n\u001b[0;32m      <a href='vscode-notebook-cell:/c%3A/Users/Maximo/Desktop/TP-Objetos/Python/clases/cuaderno.ipynb#W1sZmlsZQ%3D%3D?line=2'>3</a>\u001b[0m nombres \u001b[39m=\u001b[39m [\u001b[39m'\u001b[39m\u001b[39mAlice\u001b[39m\u001b[39m'\u001b[39m, \u001b[39m'\u001b[39m\u001b[39mBob\u001b[39m\u001b[39m'\u001b[39m, \u001b[39m'\u001b[39m\u001b[39mCharlie\u001b[39m\u001b[39m'\u001b[39m, \u001b[39m'\u001b[39m\u001b[39mDavid\u001b[39m\u001b[39m'\u001b[39m]\n\u001b[0;32m      <a href='vscode-notebook-cell:/c%3A/Users/Maximo/Desktop/TP-Objetos/Python/clases/cuaderno.ipynb#W1sZmlsZQ%3D%3D?line=3'>4</a>\u001b[0m puntuaciones \u001b[39m=\u001b[39m [\u001b[39m90\u001b[39m, \u001b[39m85\u001b[39m, \u001b[39m75\u001b[39m, \u001b[39m95\u001b[39m]\n",
      "\u001b[1;31mModuleNotFoundError\u001b[0m: No module named 'matplotlib'"
     ]
    }
   ],
   "source": [
    "import matplotlib.pyplot as plt\n",
    "\n",
    "nombres = ['Alice', 'Bob', 'Charlie', 'David']\n",
    "puntuaciones = [90, 85, 75, 95]\n",
    "plt.bar(nombres, puntuaciones)\n",
    "plt.title('Puntuaciones de los estudiantes')\n",
    "plt.xlabel('Estudiantes')\n",
    "plt.ylabel('Puntuaciones')\n",
    "plt.show()\n"
   ]
  },
  {
   "cell_type": "markdown",
   "metadata": {},
   "source": [
    "#Temporizador"
   ]
  },
  {
   "cell_type": "code",
   "execution_count": 8,
   "metadata": {},
   "outputs": [
    {
     "name": "stdout",
     "output_type": "stream",
     "text": [
      "Ya han pasado 10 segundos\n"
     ]
    }
   ],
   "source": [
    "from time import sleep\n",
    "\n",
    "\n",
    "def temporizador(segundos):\n",
    "\tsleep(segundos)\n",
    "\tprint(\"Ya han pasado \" + str(segundos) + \" segundos\")\n",
    "\n",
    "\n",
    "temporizador(10)"
   ]
  },
  {
   "cell_type": "markdown",
   "metadata": {},
   "source": [
    "#Calculadora"
   ]
  },
  {
   "cell_type": "code",
   "execution_count": 9,
   "metadata": {},
   "outputs": [
    {
     "name": "stdout",
     "output_type": "stream",
     "text": [
      "Los valores numéricos no están bien introducidos\n"
     ]
    }
   ],
   "source": [
    "#import sys\n",
    "\n",
    "# definimos las funciones a utilizar\n",
    "\n",
    "def suma(a,b):\n",
    "\treturn a+b\n",
    "\n",
    "def resta(a,b):\n",
    "\treturn a-b\n",
    "\n",
    "def multiplicacion(a,b):\n",
    "\treturn a*b\n",
    "\n",
    "def division(a,b):\n",
    "\treturn float(a)/b\n",
    "\n",
    "def potencia(a,b):\n",
    "\treturn a**b\n",
    "\n",
    "\n",
    "# eliminamos el primer elemento de entrada\n",
    "#entrada = sys.argv[1:]\n",
    "entrada = input(\"Ingresar la operacion matematica (+,-,*,^) \")\n",
    "\n",
    "# convertimos a tipo string\n",
    "entrada_text = ''.join(str(e) for e in entrada)\n",
    "\n",
    "# eliminamos los espacios\n",
    "entrada_text = entrada_text.replace(\" \", \"\")\n",
    "\n",
    "\n",
    "# para cada posible operación\n",
    "# comprobamos que existe el operador\n",
    "# y que los datos de la izda y dcha son números\n",
    "\n",
    "if \"+\" in entrada_text:\n",
    "\tnumeros = entrada_text.split(\"+\")\n",
    "\ttry:\n",
    "\t\tnum1 = float(numeros[0])\n",
    "\t\tnum2 = float(numeros[1])\n",
    "\n",
    "\t\tprint(suma(num1,num2))\n",
    "\n",
    "\texcept ValueError:\n",
    "\t\tprint(\"Los valores numéricos no están bien introducidos\")\n",
    "\n",
    "elif \"-\" in entrada_text:\n",
    "\tnumeros = entrada_text.split(\"-\")\n",
    "\ttry:\n",
    "\t\tnum1 = float(numeros[0])\n",
    "\t\tnum2 = float(numeros[1])\n",
    "\n",
    "\t\tprint(resta(num1,num2))\n",
    "\n",
    "\texcept ValueError:\n",
    "\t\tprint(\"Los valores numéricos no están bien introducidos\")\n",
    "\t\n",
    "elif \"*\" in entrada_text:\n",
    "\tnumeros = entrada_text.split(\"*\")\n",
    "\ttry:\n",
    "\t\tnum1 = float(numeros[0])\n",
    "\t\tnum2 = float(numeros[1])\n",
    "\n",
    "\t\tprint(multiplicacion(num1,num2))\n",
    "\n",
    "\texcept ValueError:\n",
    "\t\tprint(\"Los valores numéricos no están bien introducidos\")\n",
    "\n",
    "elif \"/\" in entrada_text:\n",
    "\tnumeros = entrada_text.split(\"/\")\n",
    "\ttry:\n",
    "\t\tnum1 = float(numeros[0])\n",
    "\t\tnum2 = float(numeros[1])\n",
    "\n",
    "\t\tprint(division(num1,num2))\n",
    "\n",
    "\texcept ValueError:\n",
    "\t\tprint(\"Los valores numéricos no están bien introducidos\")\n",
    "\texcept ZeroDivisionError:\n",
    "\t\tprint(\"No se pueden realizar divisiones entre cero\")\n",
    "\n",
    "elif \"^\" in entrada_text:\n",
    "\tnumeros = entrada_text.split(\"^\")\n",
    "\ttry:\n",
    "\t\tnum1 = float(numeros[0])\n",
    "\t\tnum2 = float(numeros[1])\n",
    "\n",
    "\t\tprint(potencia(num1,num2))\n",
    "\n",
    "\texcept ValueError:\n",
    "\t\tprint(\"Los valores numéricos no están bien introducidos\")"
   ]
  },
  {
   "cell_type": "markdown",
   "metadata": {},
   "source": [
    "#Visualizacion de datos y tipos\n",
    "# Manejo de cadenas (strings) y listas"
   ]
  },
  {
   "cell_type": "code",
   "execution_count": 15,
   "metadata": {},
   "outputs": [
    {
     "name": "stdout",
     "output_type": "stream",
     "text": [
      "25\n",
      "El entero es de tipo <class 'int'>\n",
      "ananaacelga\n",
      "anana acelga\n",
      "ananaananaanana\n",
      "a\n",
      "na\n",
      "ana\n",
      "nana\n",
      "ana\n",
      "anana\n",
      "tipo: <class 'list'>\n",
      "cereza\n",
      "ciruela\n",
      "False\n",
      "4\n"
     ]
    }
   ],
   "source": [
    "entero = 5 # declaramos esta variable de tipo entero\n",
    "\n",
    "entero = entero * entero # multiplicamos por sí mismo\n",
    "\n",
    "print(entero) # devuelve 25, ya que es el valor que se almacena ahora mismo en la variable entero\n",
    "\n",
    "print(\"El entero es de tipo \"+str(type(entero))) \n",
    "fruta = \"anana\"\n",
    "verdura = \"acelga\"\n",
    "print(fruta + verdura )\n",
    "print(fruta + \" \" + verdura)\n",
    "print(fruta * 3)\n",
    "len(fruta)\n",
    "print(fruta[2:3])\n",
    "print(fruta[1:3])\n",
    "print(fruta[2:5])\n",
    "print(fruta[1:])\n",
    "print(fruta[:3])\n",
    "print(fruta[:])\n",
    "lista = [\"anana\", \"arandano\",\"banana\",\"cereza\",\"ciruela\"]\n",
    "print(\"tipo: \"+str(type(lista)))\n",
    "print(lista[3])\n",
    "print(lista[-1])\n",
    "print(str(\"higo\" in lista))\n",
    "print(lista.index(\"ciruela\"))\n",
    "\n"
   ]
  },
  {
   "cell_type": "markdown",
   "metadata": {},
   "source": [
    "Calcular recorrido en mts/s y en km/h cuando la ditancia enta en km y el tiempo en seg"
   ]
  },
  {
   "cell_type": "code",
   "execution_count": 24,
   "metadata": {},
   "outputs": [
    {
     "data": {
      "text/plain": [
       "'La velocidad es 36.0 km/h o 10.0 m/s'"
      ]
     },
     "execution_count": 24,
     "metadata": {},
     "output_type": "execute_result"
    }
   ],
   "source": [
    "def velocidad(distancia, tiempo):\n",
    "  resultado = \"\"\n",
    "  distMts = distancia * 1000\n",
    "  tEnHs = tiempo / 3600\n",
    "  recMS = distMts/tiempo\n",
    "  recKH = distancia/tEnHs\n",
    "  resultado = f\"La velocidad es {recKH} km/h o {recMS} m/s\"\n",
    "  \n",
    "  return resultado\n",
    "\n",
    "distancia = 0.01\n",
    "tiempo = 1\n",
    "velocidad(distancia, tiempo)\n"
   ]
  },
  {
   "cell_type": "markdown",
   "metadata": {},
   "source": [
    "Calcular el IMC de una persona, sabiendo que su calculo es IMC = masa / (estatura ^ 2)"
   ]
  },
  {
   "cell_type": "code",
   "execution_count": 12,
   "metadata": {},
   "outputs": [
    {
     "name": "stdout",
     "output_type": "stream",
     "text": [
      "el IMC para un peso de 98.0 kg y una altura de 1.77 mts es de: 31.28092182961473\n"
     ]
    }
   ],
   "source": [
    "masa = 98.0\n",
    "estatura = 1.77\n",
    "imc = masa/(estatura ** 2)\n",
    "print(f\"el IMC para un peso de {masa} kg y una altura de {estatura} mts es de: {imc}\")"
   ]
  }
 ],
 "metadata": {
  "kernelspec": {
   "display_name": "env",
   "language": "python",
   "name": "python3"
  },
  "language_info": {
   "codemirror_mode": {
    "name": "ipython",
    "version": 3
   },
   "file_extension": ".py",
   "mimetype": "text/x-python",
   "name": "python",
   "nbconvert_exporter": "python",
   "pygments_lexer": "ipython3",
   "version": "3.10.10"
  },
  "orig_nbformat": 4
 },
 "nbformat": 4,
 "nbformat_minor": 2
}
