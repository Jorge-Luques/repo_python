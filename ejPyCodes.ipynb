{
 "cells": [
  {
   "cell_type": "markdown",
   "metadata": {},
   "source": [
    "calcula la suma del "
   ]
  },
  {
   "cell_type": "code",
   "execution_count": 11,
   "metadata": {},
   "outputs": [
    {
     "name": "stdout",
     "output_type": "stream",
     "text": [
      "Result: 50\n"
     ]
    }
   ],
   "source": [
    "cant = 5\n",
    "gen_exp = ( x ** 2 for x in range(cant))\n",
    "#print(gen_exp)\n",
    "list_comp = [x * 2 for x in range(cant)]\n",
    "#print(list_comp)\n",
    "\n",
    "combined = [a + b for a,b in zip(gen_exp,list_comp)]\n",
    "final_result = sum(combined)\n",
    "print(\"Result:\", final_result)\n",
    "\n",
    "\n",
    "\n"
   ]
  },
  {
   "cell_type": "markdown",
   "metadata": {},
   "source": [
    "imprimir triangulo de asteriscos en diferentes versiones"
   ]
  },
  {
   "cell_type": "code",
   "execution_count": 8,
   "metadata": {},
   "outputs": [
    {
     "name": "stdout",
     "output_type": "stream",
     "text": [
      "* \n",
      "* * \n",
      "* * * \n",
      "* * * * \n",
      "* * * * * \n",
      "\n",
      " -------------- \n",
      "\n",
      "* \n",
      "* * \n",
      "* * * \n",
      "* * * * \n",
      "* * * * * \n",
      "\n",
      " -------------- \n",
      "\n",
      "* * * * *  \n",
      "* * * *  \n",
      "* * *  \n",
      "* *  \n",
      "*  \n",
      " \n",
      "\n",
      " -------------- \n",
      "\n",
      "        * * * * * * \n",
      "         * * * * * \n",
      "          * * * * \n",
      "           * * * \n",
      "            * * \n",
      "             * \n",
      "\n",
      " -------------- \n",
      "\n",
      "  *  \n",
      " * * \n",
      "*   *\n",
      " * * \n",
      "  *  \n"
     ]
    }
   ],
   "source": [
    "#alineados a izquierda\n",
    "rows = 5\n",
    "for i in range(0, rows):\n",
    "    for j in range(0, i+1):\n",
    "        print(\"*\", end=\" \")\n",
    "    print(\"\\r\")\n",
    "\n",
    "print(\"\\n -------------- \\n\")\n",
    "#alineados a derecha\n",
    "for j in range(1, rows+1):\n",
    "    print(\"* \" * j)\n",
    "    \n",
    "print(\"\\n -------------- \\n\")\n",
    "#alineados a izquierda hacia abajo\n",
    "for i in range(rows + 1, 0, -1):\n",
    "    for j in range(0, i - 1):\n",
    "        print(\"*\", end=\" \")\n",
    "    print(\" \")\n",
    "    \n",
    "print(\"\\n -------------- \\n\")\n",
    "#centrados hacia abajo\n",
    "k = 2 * rows - 2\n",
    "for i in range(rows, -1, -1):\n",
    "    for j in range(k, 0, -1):\n",
    "        print(end=\" \")\n",
    "    k = k + 1\n",
    "    for j in range(0, i + 1):\n",
    "        print(\"*\", end=\" \")\n",
    "    print(\"\")\n",
    "    \n",
    "print(\"\\n -------------- \\n\")\n",
    "#rombo de asteriscos\n",
    "for i in range(rows):\n",
    "    for j in range(rows):\n",
    "        if i + j == 2 or i - j == 2 or i + j == rows + 1 or j - i  == 2:\n",
    "            print(\"*\", end=\"\")\n",
    "        else:  \n",
    "            print(end=\" \")\n",
    "    print()\n"
   ]
  },
  {
   "cell_type": "markdown",
   "metadata": {},
   "source": [
    "obtiene la cantidad de elementos que son multiplos de 4 en el arreglo data haciendole una suma a cada elemento"
   ]
  },
  {
   "cell_type": "code",
   "execution_count": 12,
   "metadata": {},
   "outputs": [
    {
     "name": "stdout",
     "output_type": "stream",
     "text": [
      "2\n"
     ]
    }
   ],
   "source": [
    "def modify(n):\n",
    "    return n + 2\n",
    "\n",
    "data = [2, 4, 6, 8, 10]\n",
    "result = [modify(x) for x in data if  x % 4 == 0]\n",
    "print(len(result))"
   ]
  },
  {
   "cell_type": "markdown",
   "metadata": {},
   "source": [
    "calcular fibonacci"
   ]
  },
  {
   "cell_type": "code",
   "execution_count": 13,
   "metadata": {},
   "outputs": [
    {
     "name": "stdout",
     "output_type": "stream",
     "text": [
      "0\n",
      "1\n",
      "1\n",
      "2\n",
      "3\n",
      "5\n",
      "8\n",
      "13\n",
      "21\n",
      "34\n",
      "55\n",
      "89\n",
      "144\n",
      "233\n",
      "377\n",
      "610\n",
      "987\n"
     ]
    }
   ],
   "source": [
    "def fibonacci(max_value):\n",
    "    a, b = 0, 1\n",
    "    while a < max_value:\n",
    "        yield a\n",
    "        a, b = b, a + b\n",
    "\n",
    "for number in fibonacci(1000):\n",
    "    print(number)"
   ]
  },
  {
   "cell_type": "markdown",
   "metadata": {},
   "source": [
    "unir listas"
   ]
  },
  {
   "cell_type": "code",
   "execution_count": 14,
   "metadata": {},
   "outputs": [
    {
     "name": "stdout",
     "output_type": "stream",
     "text": [
      "[1, 3] [2] [1, 3]\n"
     ]
    }
   ],
   "source": [
    "def append_to(element, to=[]):\n",
    "      to.append(element)\n",
    "      return to\n",
    "\n",
    "list1 = append_to(1)\n",
    "list2 = append_to(2, [])\n",
    "list3 = append_to(3)\n",
    "\n",
    "print(list1, list2, list3)\n"
   ]
  },
  {
   "cell_type": "markdown",
   "metadata": {},
   "source": [
    "funcion wrapper"
   ]
  },
  {
   "cell_type": "code",
   "execution_count": 16,
   "metadata": {},
   "outputs": [
    {
     "name": "stdout",
     "output_type": "stream",
     "text": [
      "function name:  add\n",
      "Result:  7\n"
     ]
    }
   ],
   "source": [
    "def wrapper(func):\n",
    "    def inner(*args, **kwargs):\n",
    "        print(\"function name: \", func.__name__)\n",
    "        return func(*args, **kwargs)\n",
    "    return inner\n",
    "\n",
    "@wrapper\n",
    "def add(a, b):\n",
    "    \"\"\"Add two numbers\"\"\"\n",
    "    return a + b\n",
    "\n",
    "result = add(3, 4)\n",
    "print(\"Result: \", result)"
   ]
  },
  {
   "cell_type": "markdown",
   "metadata": {},
   "source": [
    "elementos de un arreglo de forma inversa y en los indices impares"
   ]
  },
  {
   "cell_type": "code",
   "execution_count": 19,
   "metadata": {},
   "outputs": [
    {
     "name": "stdout",
     "output_type": "stream",
     "text": [
      "Reverse of the characters at odd positions:  sucnhy\n"
     ]
    }
   ],
   "source": [
    "string = \"python course\"\n",
    "R = [string[x] for x in range(len(string)-1, -1, -1) if x % 2 !=0] \n",
    "srtResult = \"\".join(R)  \n",
    "print(\"Reverse of the characters at odd positions: \", srtResult)"
   ]
  },
  {
   "cell_type": "markdown",
   "metadata": {},
   "source": [
    "crea una lista de tamaño nums con sublistas de tamaño size"
   ]
  },
  {
   "cell_type": "code",
   "execution_count": 23,
   "metadata": {},
   "outputs": [
    {
     "name": "stdout",
     "output_type": "stream",
     "text": [
      "[[6, 5, 4, 3]]\n"
     ]
    }
   ],
   "source": [
    "def splitList(nums, size):\n",
    "    N = [n for n in range(1, nums+1)]\n",
    "    R = [];  c = 0\n",
    "    for x in range(nums // size):\n",
    "        R.append(N[::-1][c:c+size])\n",
    "        c += size\n",
    "    return R\n",
    "\n",
    "print(splitList(6,4))"
   ]
  },
  {
   "cell_type": "markdown",
   "metadata": {},
   "source": [
    "Ejemplos usando random"
   ]
  },
  {
   "cell_type": "code",
   "execution_count": 26,
   "metadata": {},
   "outputs": [
    {
     "name": "stdout",
     "output_type": "stream",
     "text": [
      "\n",
      " usando randint \n",
      "\n",
      "e\n",
      "\n",
      " usando choices \n",
      "\n",
      "['e']\n"
     ]
    }
   ],
   "source": [
    "import random\n",
    "\n",
    "my_list = ['a', 'b', 'c', 'd', 'e', 'f', 'g']\n",
    "\n",
    "print(\"\\n usando randint \\n\")\n",
    "random_number = random.randint(0, len(my_list))\n",
    "print(my_list[random_number])\n",
    "\n",
    "print(\"\\n usando choices \\n\")\n",
    "new_random = random.choices(my_list)\n",
    "print(new_random)\n"
   ]
  },
  {
   "cell_type": "markdown",
   "metadata": {},
   "source": [
    "verificador de secuencia de parentesis, corchetes y llaves y controla si esta balanceado"
   ]
  },
  {
   "cell_type": "code",
   "execution_count": 1,
   "metadata": {},
   "outputs": [
    {
     "name": "stdout",
     "output_type": "stream",
     "text": [
      "True\n"
     ]
    }
   ],
   "source": [
    "def is_balanced(s):\n",
    "    stack = []\n",
    "    pairs = {'(':')','{':'}','[':']'}\n",
    "    for char in s:\n",
    "        if char in pairs:\n",
    "            stack.append(char)\n",
    "        elif len(stack) == 0 or pairs[stack.pop()] != char:\n",
    "            return False\n",
    "    return len(stack) == 0\n",
    "\n",
    "print(is_balanced(\"({[()]})\"))"
   ]
  },
  {
   "cell_type": "markdown",
   "metadata": {},
   "source": [
    "funcion que separa numeros y simboos de letras dentro de un texto y retorna el texto puro solo con letras"
   ]
  },
  {
   "cell_type": "code",
   "execution_count": 2,
   "metadata": {},
   "outputs": [
    {
     "name": "stdout",
     "output_type": "stream",
     "text": [
      "python course\n"
     ]
    }
   ],
   "source": [
    "def cleanString(string):\n",
    "    sentence = \"\"\n",
    "    for k in range(len(string)):\n",
    "        if string[k].isalpha() or string[k] == \" \":\n",
    "            sentence += string[k]\n",
    "    return sentence\n",
    "\n",
    "print(cleanString(\"p2yt#6ho@n c0o13u?rs*e\"))"
   ]
  },
  {
   "cell_type": "markdown",
   "metadata": {},
   "source": [
    "escribir en ingles con letras el numero de 2 digitos"
   ]
  },
  {
   "cell_type": "code",
   "execution_count": 8,
   "metadata": {},
   "outputs": [
    {
     "name": "stdout",
     "output_type": "stream",
     "text": [
      "seventy nine\n"
     ]
    }
   ],
   "source": [
    "def convertNumber(num):\n",
    "    n = {0:\"zero\", 1:\"one\", 2:\"two\", 3:\"three\", 4:\"four\", 5:\"five\",\n",
    "         6:\"six\", 7:\"seven\", 8:\"eight\", 9:\"nine\", 10:\"ten\", 11:\"eleven\",\n",
    "         12:\"twelve\", 13:\"thirteen\", 14:\"fourteen\", 15:\"fifteen\", 16:\"sixteen\",\n",
    "         17:\"seventeen\", 18:\"eighteen\", 19:\"nineteen\"}\n",
    "    \n",
    "    N = {20:\"twenty\", 30:\"thirty\", 40:\"forty\", 50:\"fifty\",\n",
    "         60:\"sixty\", 70:\"seventy\", 80:\"eighty\", 90:\"ninety\"}\n",
    "    \n",
    "    st = str(num)\n",
    "    if num in n:\n",
    "        return n[num]\n",
    "    elif num in N:\n",
    "        return N[num]\n",
    "    else:\n",
    "        numPart1 = N[int(st[0])*10]\n",
    "        numPart2 = n[int(st[1])]\n",
    "        return f\"{numPart1} {numPart2}\"\n",
    "\n",
    "print(convertNumber(79))"
   ]
  }
 ],
 "metadata": {
  "kernelspec": {
   "display_name": "Python 3",
   "language": "python",
   "name": "python3"
  },
  "language_info": {
   "codemirror_mode": {
    "name": "ipython",
    "version": 3
   },
   "file_extension": ".py",
   "mimetype": "text/x-python",
   "name": "python",
   "nbconvert_exporter": "python",
   "pygments_lexer": "ipython3",
   "version": "3.10.10"
  }
 },
 "nbformat": 4,
 "nbformat_minor": 2
}
